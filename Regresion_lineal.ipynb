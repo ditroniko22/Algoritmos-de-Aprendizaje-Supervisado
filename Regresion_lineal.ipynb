{
 "cells": [
  {
   "cell_type": "markdown",
   "id": "9dfb4c4a-991d-4329-a570-ad729e7c57c2",
   "metadata": {},
   "source": [
    "## 1. Realizar un análisis exploratorio de los datos para identificar relaciones entre variables, valores atípicos, tendencias, etc."
   ]
  },
  {
   "cell_type": "code",
   "execution_count": 16,
   "id": "069e55eb-da46-4419-8ad3-953ad9c22c16",
   "metadata": {},
   "outputs": [
    {
     "name": "stdout",
     "output_type": "stream",
     "text": [
      "Requirement already satisfied: numpy in /home/juan/my-jupyter-env/lib/python3.12/site-packages (2.1.2)\n",
      "Requirement already satisfied: pandas in /home/juan/my-jupyter-env/lib/python3.12/site-packages (2.2.3)\n",
      "Requirement already satisfied: scikit-learn in /home/juan/my-jupyter-env/lib/python3.12/site-packages (1.5.2)\n",
      "Requirement already satisfied: matplotlib in /home/juan/my-jupyter-env/lib/python3.12/site-packages (3.9.2)\n",
      "Collecting seaborn\n",
      "  Downloading seaborn-0.13.2-py3-none-any.whl.metadata (5.4 kB)\n",
      "Requirement already satisfied: python-dateutil>=2.8.2 in /home/juan/my-jupyter-env/lib/python3.12/site-packages (from pandas) (2.9.0.post0)\n",
      "Requirement already satisfied: pytz>=2020.1 in /home/juan/my-jupyter-env/lib/python3.12/site-packages (from pandas) (2024.2)\n",
      "Requirement already satisfied: tzdata>=2022.7 in /home/juan/my-jupyter-env/lib/python3.12/site-packages (from pandas) (2024.2)\n",
      "Requirement already satisfied: scipy>=1.6.0 in /home/juan/my-jupyter-env/lib/python3.12/site-packages (from scikit-learn) (1.14.1)\n",
      "Requirement already satisfied: joblib>=1.2.0 in /home/juan/my-jupyter-env/lib/python3.12/site-packages (from scikit-learn) (1.4.2)\n",
      "Requirement already satisfied: threadpoolctl>=3.1.0 in /home/juan/my-jupyter-env/lib/python3.12/site-packages (from scikit-learn) (3.5.0)\n",
      "Requirement already satisfied: contourpy>=1.0.1 in /home/juan/my-jupyter-env/lib/python3.12/site-packages (from matplotlib) (1.3.0)\n",
      "Requirement already satisfied: cycler>=0.10 in /home/juan/my-jupyter-env/lib/python3.12/site-packages (from matplotlib) (0.12.1)\n",
      "Requirement already satisfied: fonttools>=4.22.0 in /home/juan/my-jupyter-env/lib/python3.12/site-packages (from matplotlib) (4.54.1)\n",
      "Requirement already satisfied: kiwisolver>=1.3.1 in /home/juan/my-jupyter-env/lib/python3.12/site-packages (from matplotlib) (1.4.7)\n",
      "Requirement already satisfied: packaging>=20.0 in /home/juan/my-jupyter-env/lib/python3.12/site-packages (from matplotlib) (24.1)\n",
      "Requirement already satisfied: pillow>=8 in /home/juan/my-jupyter-env/lib/python3.12/site-packages (from matplotlib) (11.0.0)\n",
      "Requirement already satisfied: pyparsing>=2.3.1 in /home/juan/my-jupyter-env/lib/python3.12/site-packages (from matplotlib) (3.2.0)\n",
      "Requirement already satisfied: six>=1.5 in /home/juan/my-jupyter-env/lib/python3.12/site-packages (from python-dateutil>=2.8.2->pandas) (1.16.0)\n",
      "Downloading seaborn-0.13.2-py3-none-any.whl (294 kB)\n",
      "\u001b[2K   \u001b[38;2;114;156;31m━━━━━━━━━━━━━━━━━━━━━━━━━━━━━━━━━━━━━━━━\u001b[0m \u001b[32m294.9/294.9 kB\u001b[0m \u001b[31m1.1 MB/s\u001b[0m eta \u001b[36m0:00:00\u001b[0m31m876.0 kB/s\u001b[0m eta \u001b[36m0:00:01\u001b[0m\n",
      "\u001b[?25hInstalling collected packages: seaborn\n",
      "Successfully installed seaborn-0.13.2\n",
      "Note: you may need to restart the kernel to use updated packages.\n"
     ]
    }
   ],
   "source": [
    "pip install numpy pandas scikit-learn matplotlib seaborn"
   ]
  },
  {
   "cell_type": "code",
   "execution_count": 23,
   "id": "afb9d0ed-2dad-4be8-82f9-c0d057be0520",
   "metadata": {},
   "outputs": [],
   "source": [
    "# Cargar librerias necesarias\n",
    "\n",
    "import pandas as pd\n",
    "import numpy as np\n",
    "import matplotlib.pyplot as plt\n",
    "import seaborn as sns\n",
    "\n",
    "#Librerias del modelo a implementar\n",
    "from sklearn.linear_model import LinearRegression"
   ]
  },
  {
   "cell_type": "code",
   "execution_count": 24,
   "id": "ba97ff83-173d-40fe-a54b-010e519122cc",
   "metadata": {},
   "outputs": [],
   "source": [
    "# Lectura de datos y cargue de archivos\n",
    "Datos=pd.read_csv('./CAR DETAILS FROM CAR DEKHO.csv')"
   ]
  },
  {
   "cell_type": "code",
   "execution_count": 25,
   "id": "36bab6c4-0736-4397-9919-d1ee6b6e959b",
   "metadata": {},
   "outputs": [
    {
     "data": {
      "text/html": [
       "<div>\n",
       "<style scoped>\n",
       "    .dataframe tbody tr th:only-of-type {\n",
       "        vertical-align: middle;\n",
       "    }\n",
       "\n",
       "    .dataframe tbody tr th {\n",
       "        vertical-align: top;\n",
       "    }\n",
       "\n",
       "    .dataframe thead th {\n",
       "        text-align: right;\n",
       "    }\n",
       "</style>\n",
       "<table border=\"1\" class=\"dataframe\">\n",
       "  <thead>\n",
       "    <tr style=\"text-align: right;\">\n",
       "      <th></th>\n",
       "      <th>name</th>\n",
       "      <th>year</th>\n",
       "      <th>selling_price</th>\n",
       "      <th>km_driven</th>\n",
       "      <th>fuel</th>\n",
       "      <th>seller_type</th>\n",
       "      <th>transmission</th>\n",
       "      <th>owner</th>\n",
       "    </tr>\n",
       "  </thead>\n",
       "  <tbody>\n",
       "    <tr>\n",
       "      <th>0</th>\n",
       "      <td>Maruti 800 AC</td>\n",
       "      <td>2007</td>\n",
       "      <td>60000</td>\n",
       "      <td>70000</td>\n",
       "      <td>Petrol</td>\n",
       "      <td>Individual</td>\n",
       "      <td>Manual</td>\n",
       "      <td>First Owner</td>\n",
       "    </tr>\n",
       "    <tr>\n",
       "      <th>1</th>\n",
       "      <td>Maruti Wagon R LXI Minor</td>\n",
       "      <td>2007</td>\n",
       "      <td>135000</td>\n",
       "      <td>50000</td>\n",
       "      <td>Petrol</td>\n",
       "      <td>Individual</td>\n",
       "      <td>Manual</td>\n",
       "      <td>First Owner</td>\n",
       "    </tr>\n",
       "    <tr>\n",
       "      <th>2</th>\n",
       "      <td>Hyundai Verna 1.6 SX</td>\n",
       "      <td>2012</td>\n",
       "      <td>600000</td>\n",
       "      <td>100000</td>\n",
       "      <td>Diesel</td>\n",
       "      <td>Individual</td>\n",
       "      <td>Manual</td>\n",
       "      <td>First Owner</td>\n",
       "    </tr>\n",
       "    <tr>\n",
       "      <th>3</th>\n",
       "      <td>Datsun RediGO T Option</td>\n",
       "      <td>2017</td>\n",
       "      <td>250000</td>\n",
       "      <td>46000</td>\n",
       "      <td>Petrol</td>\n",
       "      <td>Individual</td>\n",
       "      <td>Manual</td>\n",
       "      <td>First Owner</td>\n",
       "    </tr>\n",
       "    <tr>\n",
       "      <th>4</th>\n",
       "      <td>Honda Amaze VX i-DTEC</td>\n",
       "      <td>2014</td>\n",
       "      <td>450000</td>\n",
       "      <td>141000</td>\n",
       "      <td>Diesel</td>\n",
       "      <td>Individual</td>\n",
       "      <td>Manual</td>\n",
       "      <td>Second Owner</td>\n",
       "    </tr>\n",
       "    <tr>\n",
       "      <th>5</th>\n",
       "      <td>Maruti Alto LX BSIII</td>\n",
       "      <td>2007</td>\n",
       "      <td>140000</td>\n",
       "      <td>125000</td>\n",
       "      <td>Petrol</td>\n",
       "      <td>Individual</td>\n",
       "      <td>Manual</td>\n",
       "      <td>First Owner</td>\n",
       "    </tr>\n",
       "    <tr>\n",
       "      <th>6</th>\n",
       "      <td>Hyundai Xcent 1.2 Kappa S</td>\n",
       "      <td>2016</td>\n",
       "      <td>550000</td>\n",
       "      <td>25000</td>\n",
       "      <td>Petrol</td>\n",
       "      <td>Individual</td>\n",
       "      <td>Manual</td>\n",
       "      <td>First Owner</td>\n",
       "    </tr>\n",
       "    <tr>\n",
       "      <th>7</th>\n",
       "      <td>Tata Indigo Grand Petrol</td>\n",
       "      <td>2014</td>\n",
       "      <td>240000</td>\n",
       "      <td>60000</td>\n",
       "      <td>Petrol</td>\n",
       "      <td>Individual</td>\n",
       "      <td>Manual</td>\n",
       "      <td>Second Owner</td>\n",
       "    </tr>\n",
       "    <tr>\n",
       "      <th>8</th>\n",
       "      <td>Hyundai Creta 1.6 VTVT S</td>\n",
       "      <td>2015</td>\n",
       "      <td>850000</td>\n",
       "      <td>25000</td>\n",
       "      <td>Petrol</td>\n",
       "      <td>Individual</td>\n",
       "      <td>Manual</td>\n",
       "      <td>First Owner</td>\n",
       "    </tr>\n",
       "    <tr>\n",
       "      <th>9</th>\n",
       "      <td>Maruti Celerio Green VXI</td>\n",
       "      <td>2017</td>\n",
       "      <td>365000</td>\n",
       "      <td>78000</td>\n",
       "      <td>CNG</td>\n",
       "      <td>Individual</td>\n",
       "      <td>Manual</td>\n",
       "      <td>First Owner</td>\n",
       "    </tr>\n",
       "    <tr>\n",
       "      <th>10</th>\n",
       "      <td>Chevrolet Sail 1.2 Base</td>\n",
       "      <td>2015</td>\n",
       "      <td>260000</td>\n",
       "      <td>35000</td>\n",
       "      <td>Petrol</td>\n",
       "      <td>Individual</td>\n",
       "      <td>Manual</td>\n",
       "      <td>First Owner</td>\n",
       "    </tr>\n",
       "    <tr>\n",
       "      <th>11</th>\n",
       "      <td>Tata Indigo Grand Petrol</td>\n",
       "      <td>2014</td>\n",
       "      <td>250000</td>\n",
       "      <td>100000</td>\n",
       "      <td>Petrol</td>\n",
       "      <td>Individual</td>\n",
       "      <td>Manual</td>\n",
       "      <td>First Owner</td>\n",
       "    </tr>\n",
       "    <tr>\n",
       "      <th>12</th>\n",
       "      <td>Toyota Corolla Altis 1.8 VL CVT</td>\n",
       "      <td>2018</td>\n",
       "      <td>1650000</td>\n",
       "      <td>25000</td>\n",
       "      <td>Petrol</td>\n",
       "      <td>Dealer</td>\n",
       "      <td>Automatic</td>\n",
       "      <td>First Owner</td>\n",
       "    </tr>\n",
       "    <tr>\n",
       "      <th>13</th>\n",
       "      <td>Maruti 800 AC</td>\n",
       "      <td>2007</td>\n",
       "      <td>60000</td>\n",
       "      <td>70000</td>\n",
       "      <td>Petrol</td>\n",
       "      <td>Individual</td>\n",
       "      <td>Manual</td>\n",
       "      <td>First Owner</td>\n",
       "    </tr>\n",
       "    <tr>\n",
       "      <th>14</th>\n",
       "      <td>Maruti Wagon R LXI Minor</td>\n",
       "      <td>2007</td>\n",
       "      <td>135000</td>\n",
       "      <td>50000</td>\n",
       "      <td>Petrol</td>\n",
       "      <td>Individual</td>\n",
       "      <td>Manual</td>\n",
       "      <td>First Owner</td>\n",
       "    </tr>\n",
       "    <tr>\n",
       "      <th>15</th>\n",
       "      <td>Hyundai Verna 1.6 SX</td>\n",
       "      <td>2012</td>\n",
       "      <td>600000</td>\n",
       "      <td>100000</td>\n",
       "      <td>Diesel</td>\n",
       "      <td>Individual</td>\n",
       "      <td>Manual</td>\n",
       "      <td>First Owner</td>\n",
       "    </tr>\n",
       "    <tr>\n",
       "      <th>16</th>\n",
       "      <td>Datsun RediGO T Option</td>\n",
       "      <td>2017</td>\n",
       "      <td>250000</td>\n",
       "      <td>46000</td>\n",
       "      <td>Petrol</td>\n",
       "      <td>Individual</td>\n",
       "      <td>Manual</td>\n",
       "      <td>First Owner</td>\n",
       "    </tr>\n",
       "    <tr>\n",
       "      <th>17</th>\n",
       "      <td>Honda Amaze VX i-DTEC</td>\n",
       "      <td>2014</td>\n",
       "      <td>450000</td>\n",
       "      <td>141000</td>\n",
       "      <td>Diesel</td>\n",
       "      <td>Individual</td>\n",
       "      <td>Manual</td>\n",
       "      <td>Second Owner</td>\n",
       "    </tr>\n",
       "    <tr>\n",
       "      <th>18</th>\n",
       "      <td>Maruti Alto LX BSIII</td>\n",
       "      <td>2007</td>\n",
       "      <td>140000</td>\n",
       "      <td>125000</td>\n",
       "      <td>Petrol</td>\n",
       "      <td>Individual</td>\n",
       "      <td>Manual</td>\n",
       "      <td>First Owner</td>\n",
       "    </tr>\n",
       "    <tr>\n",
       "      <th>19</th>\n",
       "      <td>Hyundai Xcent 1.2 Kappa S</td>\n",
       "      <td>2016</td>\n",
       "      <td>550000</td>\n",
       "      <td>25000</td>\n",
       "      <td>Petrol</td>\n",
       "      <td>Individual</td>\n",
       "      <td>Manual</td>\n",
       "      <td>First Owner</td>\n",
       "    </tr>\n",
       "    <tr>\n",
       "      <th>20</th>\n",
       "      <td>Tata Indigo Grand Petrol</td>\n",
       "      <td>2014</td>\n",
       "      <td>240000</td>\n",
       "      <td>60000</td>\n",
       "      <td>Petrol</td>\n",
       "      <td>Individual</td>\n",
       "      <td>Manual</td>\n",
       "      <td>Second Owner</td>\n",
       "    </tr>\n",
       "    <tr>\n",
       "      <th>21</th>\n",
       "      <td>Hyundai Creta 1.6 VTVT S</td>\n",
       "      <td>2015</td>\n",
       "      <td>850000</td>\n",
       "      <td>25000</td>\n",
       "      <td>Petrol</td>\n",
       "      <td>Individual</td>\n",
       "      <td>Manual</td>\n",
       "      <td>First Owner</td>\n",
       "    </tr>\n",
       "    <tr>\n",
       "      <th>22</th>\n",
       "      <td>Maruti Celerio Green VXI</td>\n",
       "      <td>2017</td>\n",
       "      <td>365000</td>\n",
       "      <td>78000</td>\n",
       "      <td>CNG</td>\n",
       "      <td>Individual</td>\n",
       "      <td>Manual</td>\n",
       "      <td>First Owner</td>\n",
       "    </tr>\n",
       "    <tr>\n",
       "      <th>23</th>\n",
       "      <td>Chevrolet Sail 1.2 Base</td>\n",
       "      <td>2015</td>\n",
       "      <td>260000</td>\n",
       "      <td>35000</td>\n",
       "      <td>Petrol</td>\n",
       "      <td>Individual</td>\n",
       "      <td>Manual</td>\n",
       "      <td>First Owner</td>\n",
       "    </tr>\n",
       "    <tr>\n",
       "      <th>24</th>\n",
       "      <td>Tata Indigo Grand Petrol</td>\n",
       "      <td>2014</td>\n",
       "      <td>250000</td>\n",
       "      <td>100000</td>\n",
       "      <td>Petrol</td>\n",
       "      <td>Individual</td>\n",
       "      <td>Manual</td>\n",
       "      <td>First Owner</td>\n",
       "    </tr>\n",
       "    <tr>\n",
       "      <th>25</th>\n",
       "      <td>Toyota Corolla Altis 1.8 VL CVT</td>\n",
       "      <td>2018</td>\n",
       "      <td>1650000</td>\n",
       "      <td>25000</td>\n",
       "      <td>Petrol</td>\n",
       "      <td>Dealer</td>\n",
       "      <td>Automatic</td>\n",
       "      <td>First Owner</td>\n",
       "    </tr>\n",
       "    <tr>\n",
       "      <th>26</th>\n",
       "      <td>Maruti Ciaz VXi Plus</td>\n",
       "      <td>2015</td>\n",
       "      <td>585000</td>\n",
       "      <td>24000</td>\n",
       "      <td>Petrol</td>\n",
       "      <td>Dealer</td>\n",
       "      <td>Manual</td>\n",
       "      <td>First Owner</td>\n",
       "    </tr>\n",
       "    <tr>\n",
       "      <th>27</th>\n",
       "      <td>Hyundai Venue SX Opt Diesel</td>\n",
       "      <td>2019</td>\n",
       "      <td>1195000</td>\n",
       "      <td>5000</td>\n",
       "      <td>Diesel</td>\n",
       "      <td>Dealer</td>\n",
       "      <td>Manual</td>\n",
       "      <td>First Owner</td>\n",
       "    </tr>\n",
       "    <tr>\n",
       "      <th>28</th>\n",
       "      <td>Chevrolet Enjoy TCDi LTZ 7 Seater</td>\n",
       "      <td>2013</td>\n",
       "      <td>390000</td>\n",
       "      <td>33000</td>\n",
       "      <td>Diesel</td>\n",
       "      <td>Individual</td>\n",
       "      <td>Manual</td>\n",
       "      <td>Second Owner</td>\n",
       "    </tr>\n",
       "    <tr>\n",
       "      <th>29</th>\n",
       "      <td>Jaguar XF 2.2 Litre Luxury</td>\n",
       "      <td>2014</td>\n",
       "      <td>1964999</td>\n",
       "      <td>28000</td>\n",
       "      <td>Diesel</td>\n",
       "      <td>Dealer</td>\n",
       "      <td>Automatic</td>\n",
       "      <td>First Owner</td>\n",
       "    </tr>\n",
       "  </tbody>\n",
       "</table>\n",
       "</div>"
      ],
      "text/plain": [
       "                                 name  year  selling_price  km_driven    fuel  \\\n",
       "0                       Maruti 800 AC  2007          60000      70000  Petrol   \n",
       "1            Maruti Wagon R LXI Minor  2007         135000      50000  Petrol   \n",
       "2                Hyundai Verna 1.6 SX  2012         600000     100000  Diesel   \n",
       "3              Datsun RediGO T Option  2017         250000      46000  Petrol   \n",
       "4               Honda Amaze VX i-DTEC  2014         450000     141000  Diesel   \n",
       "5                Maruti Alto LX BSIII  2007         140000     125000  Petrol   \n",
       "6           Hyundai Xcent 1.2 Kappa S  2016         550000      25000  Petrol   \n",
       "7            Tata Indigo Grand Petrol  2014         240000      60000  Petrol   \n",
       "8            Hyundai Creta 1.6 VTVT S  2015         850000      25000  Petrol   \n",
       "9            Maruti Celerio Green VXI  2017         365000      78000     CNG   \n",
       "10            Chevrolet Sail 1.2 Base  2015         260000      35000  Petrol   \n",
       "11           Tata Indigo Grand Petrol  2014         250000     100000  Petrol   \n",
       "12    Toyota Corolla Altis 1.8 VL CVT  2018        1650000      25000  Petrol   \n",
       "13                      Maruti 800 AC  2007          60000      70000  Petrol   \n",
       "14           Maruti Wagon R LXI Minor  2007         135000      50000  Petrol   \n",
       "15               Hyundai Verna 1.6 SX  2012         600000     100000  Diesel   \n",
       "16             Datsun RediGO T Option  2017         250000      46000  Petrol   \n",
       "17              Honda Amaze VX i-DTEC  2014         450000     141000  Diesel   \n",
       "18               Maruti Alto LX BSIII  2007         140000     125000  Petrol   \n",
       "19          Hyundai Xcent 1.2 Kappa S  2016         550000      25000  Petrol   \n",
       "20           Tata Indigo Grand Petrol  2014         240000      60000  Petrol   \n",
       "21           Hyundai Creta 1.6 VTVT S  2015         850000      25000  Petrol   \n",
       "22           Maruti Celerio Green VXI  2017         365000      78000     CNG   \n",
       "23            Chevrolet Sail 1.2 Base  2015         260000      35000  Petrol   \n",
       "24           Tata Indigo Grand Petrol  2014         250000     100000  Petrol   \n",
       "25    Toyota Corolla Altis 1.8 VL CVT  2018        1650000      25000  Petrol   \n",
       "26               Maruti Ciaz VXi Plus  2015         585000      24000  Petrol   \n",
       "27        Hyundai Venue SX Opt Diesel  2019        1195000       5000  Diesel   \n",
       "28  Chevrolet Enjoy TCDi LTZ 7 Seater  2013         390000      33000  Diesel   \n",
       "29         Jaguar XF 2.2 Litre Luxury  2014        1964999      28000  Diesel   \n",
       "\n",
       "   seller_type transmission         owner  \n",
       "0   Individual       Manual   First Owner  \n",
       "1   Individual       Manual   First Owner  \n",
       "2   Individual       Manual   First Owner  \n",
       "3   Individual       Manual   First Owner  \n",
       "4   Individual       Manual  Second Owner  \n",
       "5   Individual       Manual   First Owner  \n",
       "6   Individual       Manual   First Owner  \n",
       "7   Individual       Manual  Second Owner  \n",
       "8   Individual       Manual   First Owner  \n",
       "9   Individual       Manual   First Owner  \n",
       "10  Individual       Manual   First Owner  \n",
       "11  Individual       Manual   First Owner  \n",
       "12      Dealer    Automatic   First Owner  \n",
       "13  Individual       Manual   First Owner  \n",
       "14  Individual       Manual   First Owner  \n",
       "15  Individual       Manual   First Owner  \n",
       "16  Individual       Manual   First Owner  \n",
       "17  Individual       Manual  Second Owner  \n",
       "18  Individual       Manual   First Owner  \n",
       "19  Individual       Manual   First Owner  \n",
       "20  Individual       Manual  Second Owner  \n",
       "21  Individual       Manual   First Owner  \n",
       "22  Individual       Manual   First Owner  \n",
       "23  Individual       Manual   First Owner  \n",
       "24  Individual       Manual   First Owner  \n",
       "25      Dealer    Automatic   First Owner  \n",
       "26      Dealer       Manual   First Owner  \n",
       "27      Dealer       Manual   First Owner  \n",
       "28  Individual       Manual  Second Owner  \n",
       "29      Dealer    Automatic   First Owner  "
      ]
     },
     "execution_count": 25,
     "metadata": {},
     "output_type": "execute_result"
    }
   ],
   "source": [
    "# Se realiza la lectura de datos para el análisis exploratorio.\n",
    "Datos.head(30)"
   ]
  },
  {
   "cell_type": "code",
   "execution_count": 21,
   "id": "30aff20f-c20f-4799-9a53-7447dfea0d67",
   "metadata": {},
   "outputs": [
    {
     "data": {
      "text/html": [
       "<div>\n",
       "<style scoped>\n",
       "    .dataframe tbody tr th:only-of-type {\n",
       "        vertical-align: middle;\n",
       "    }\n",
       "\n",
       "    .dataframe tbody tr th {\n",
       "        vertical-align: top;\n",
       "    }\n",
       "\n",
       "    .dataframe thead th {\n",
       "        text-align: right;\n",
       "    }\n",
       "</style>\n",
       "<table border=\"1\" class=\"dataframe\">\n",
       "  <thead>\n",
       "    <tr style=\"text-align: right;\">\n",
       "      <th></th>\n",
       "      <th>year</th>\n",
       "      <th>selling_price</th>\n",
       "      <th>km_driven</th>\n",
       "    </tr>\n",
       "  </thead>\n",
       "  <tbody>\n",
       "    <tr>\n",
       "      <th>count</th>\n",
       "      <td>4340.000000</td>\n",
       "      <td>4.340000e+03</td>\n",
       "      <td>4340.000000</td>\n",
       "    </tr>\n",
       "    <tr>\n",
       "      <th>mean</th>\n",
       "      <td>2013.090783</td>\n",
       "      <td>5.041273e+05</td>\n",
       "      <td>66215.777419</td>\n",
       "    </tr>\n",
       "    <tr>\n",
       "      <th>std</th>\n",
       "      <td>4.215344</td>\n",
       "      <td>5.785487e+05</td>\n",
       "      <td>46644.102194</td>\n",
       "    </tr>\n",
       "    <tr>\n",
       "      <th>min</th>\n",
       "      <td>1992.000000</td>\n",
       "      <td>2.000000e+04</td>\n",
       "      <td>1.000000</td>\n",
       "    </tr>\n",
       "    <tr>\n",
       "      <th>25%</th>\n",
       "      <td>2011.000000</td>\n",
       "      <td>2.087498e+05</td>\n",
       "      <td>35000.000000</td>\n",
       "    </tr>\n",
       "    <tr>\n",
       "      <th>50%</th>\n",
       "      <td>2014.000000</td>\n",
       "      <td>3.500000e+05</td>\n",
       "      <td>60000.000000</td>\n",
       "    </tr>\n",
       "    <tr>\n",
       "      <th>75%</th>\n",
       "      <td>2016.000000</td>\n",
       "      <td>6.000000e+05</td>\n",
       "      <td>90000.000000</td>\n",
       "    </tr>\n",
       "    <tr>\n",
       "      <th>max</th>\n",
       "      <td>2020.000000</td>\n",
       "      <td>8.900000e+06</td>\n",
       "      <td>806599.000000</td>\n",
       "    </tr>\n",
       "  </tbody>\n",
       "</table>\n",
       "</div>"
      ],
      "text/plain": [
       "              year  selling_price      km_driven\n",
       "count  4340.000000   4.340000e+03    4340.000000\n",
       "mean   2013.090783   5.041273e+05   66215.777419\n",
       "std       4.215344   5.785487e+05   46644.102194\n",
       "min    1992.000000   2.000000e+04       1.000000\n",
       "25%    2011.000000   2.087498e+05   35000.000000\n",
       "50%    2014.000000   3.500000e+05   60000.000000\n",
       "75%    2016.000000   6.000000e+05   90000.000000\n",
       "max    2020.000000   8.900000e+06  806599.000000"
      ]
     },
     "execution_count": 21,
     "metadata": {},
     "output_type": "execute_result"
    }
   ],
   "source": [
    "Datos.describe()"
   ]
  },
  {
   "cell_type": "code",
   "execution_count": 26,
   "id": "06658b8e-40b3-44fb-90b3-19dcd91a00d6",
   "metadata": {},
   "outputs": [
    {
     "data": {
      "text/plain": [
       "Text(0.5, 1.0, 'Identificación de Datos faltantes y atípicos')"
      ]
     },
     "execution_count": 26,
     "metadata": {},
     "output_type": "execute_result"
    },
    {
     "data": {
      "image/png": "[encoded data removed]",
      "text/plain": [
       "<Figure size 600x300 with 1 Axes>"
      ]
     },
     "metadata": {},
     "output_type": "display_data"
    }
   ],
   "source": [
    "# Identificación de datos faltantes y atípicos\n",
    "\n",
    "plt.figure(figsize=(6,3))\n",
    "sns.boxplot(x=Datos['year'])\n",
    "plt.title('Identificación de Datos faltantes y atípicos',fontsize=10)"
   ]
  },
  {
   "cell_type": "code",
   "execution_count": 27,
   "id": "d7c92558-08c9-453a-a125-c2ce8f0733a7",
   "metadata": {},
   "outputs": [
    {
     "data": {
      "text/plain": [
       "Text(0.5, 1.0, 'Identificación de Datos faltantes y atípicos')"
      ]
     },
     "execution_count": 27,
     "metadata": {},
     "output_type": "execute_result"
    },
    {
     "data": {
      "image/png": "[encoded data removed]",
      "text/plain": [
       "<Figure size 600x300 with 1 Axes>"
      ]
     },
     "metadata": {},
     "output_type": "display_data"
    }
   ],
   "source": [
    "# Identificación de datos faltantes y atípicos\n",
    "\n",
    "plt.figure(figsize=(6,3))\n",
    "sns.boxplot(x=Datos['selling_price'])\n",
    "plt.title('Identificación de Datos faltantes y atípicos',fontsize=10)"
   ]
  },
  {
   "cell_type": "code",
   "execution_count": 28,
   "id": "f72b403e-f2cf-4173-b58d-b66395d4d755",
   "metadata": {},
   "outputs": [
    {
     "data": {
      "text/plain": [
       "Text(0.5, 1.0, 'Identificación de Datos faltantes y atípicos')"
      ]
     },
     "execution_count": 28,
     "metadata": {},
     "output_type": "execute_result"
    },
    {
     "data": {
      "image/png": "[encoded data removed]",
      "text/plain": [
       "<Figure size 600x300 with 1 Axes>"
      ]
     },
     "metadata": {},
     "output_type": "display_data"
    }
   ],
   "source": [
    "# Identificación de datos faltantes y atípicos\n",
    "\n",
    "plt.figure(figsize=(6,3))\n",
    "sns.boxplot(x=Datos['km_driven'])\n",
    "plt.title('Identificación de Datos faltantes y atípicos',fontsize=10)"
   ]
  },
  {
   "cell_type": "markdown",
   "id": "b6d5d740-8c00-4fd7-9aaf-c83605c10571",
   "metadata": {},
   "source": [
    "## 2. Preprocesar los datos limpiándolos, tratando valores faltantes y transformándolos según sea necesario."
   ]
  },
  {
   "cell_type": "code",
   "execution_count": 30,
   "id": "1fae2e4b-2229-47ae-b928-a986cd6d4c2f",
   "metadata": {},
   "outputs": [
    {
     "name": "stdout",
     "output_type": "stream",
     "text": [
      "Cantidad de registros con cero en la columna year:  0\n",
      "Cantidad de registros con cero en la columna precio:  0\n",
      "Cantidad de registros con cero en la columna kilometraje:  0\n"
     ]
    }
   ],
   "source": [
    "print(\"Cantidad de registros con cero en la columna year: \",Datos['year'].isin([0]).sum())\n",
    "print(\"Cantidad de registros con cero en la columna precio: \",Datos['selling_price'].isin([0]).sum())\n",
    "print(\"Cantidad de registros con cero en la columna kilometraje: \",Datos['km_driven'].isin([0]).sum())"
   ]
  },
  {
   "cell_type": "code",
   "execution_count": 31,
   "id": "85dae0da-7b5c-4f64-bb01-1b585286597e",
   "metadata": {},
   "outputs": [
    {
     "data": {
      "text/plain": [
       "Text(0.5, 1.0, 'Identificación de Datos faltantes y atípicos')"
      ]
     },
     "execution_count": 31,
     "metadata": {},
     "output_type": "execute_result"
    },
    {
     "data": {
      "image/png": "[encoded data removed]",
      "text/plain": [
       "<Figure size 600x300 with 1 Axes>"
      ]
     },
     "metadata": {},
     "output_type": "display_data"
    }
   ],
   "source": [
    "# Identificación de datos atípicos del año, se va a trabajar con modelos entre 2010 y 2020\n",
    "\n",
    "plt.figure(figsize=(6,3))\n",
    "sns.boxplot(x=Datos['year'])\n",
    "plt.title('Identificación de Datos faltantes y atípicos',fontsize=10)"
   ]
  },
  {
   "cell_type": "code",
   "execution_count": 33,
   "id": "e39fcfb8-72b0-476b-9782-db14e9ce9e5d",
   "metadata": {},
   "outputs": [
    {
     "name": "stdout",
     "output_type": "stream",
     "text": [
      "El total de datos atipicos es 814 \n"
     ]
    }
   ],
   "source": [
    "# Conteo de datos atípicos\n",
    "\n",
    "nivel_minimo=2010\n",
    "nivel_maximo=2020\n",
    "Total_atipicos=((Datos['year']< nivel_minimo) | (Datos['year']>nivel_maximo)).sum()\n",
    "print(\"El total de datos atipicos es {} \".format(Total_atipicos)) "
   ]
  },
  {
   "cell_type": "code",
   "execution_count": 34,
   "id": "2d505018-eaaf-423d-b652-081abd536ad0",
   "metadata": {},
   "outputs": [],
   "source": [
    "# Filtra datos atípicos\n",
    "\n",
    "Datos=Datos[(Datos['year']< nivel_maximo) & (Datos['year']>nivel_minimo)]"
   ]
  },
  {
   "cell_type": "code",
   "execution_count": 35,
   "id": "d36adced-98ed-4679-ba7c-ca0b00a5e8dc",
   "metadata": {},
   "outputs": [
    {
     "name": "stdout",
     "output_type": "stream",
     "text": [
      "El total de datos atipicos es 0 \n"
     ]
    }
   ],
   "source": [
    "# Validar si se removieron los datos atípicos\n",
    "\n",
    "Total_atipicos=((Datos['year']< nivel_minimo) | (Datos['year']>nivel_maximo)).sum()\n",
    "print(\"El total de datos atipicos es {} \".format(Total_atipicos)) "
   ]
  },
  {
   "cell_type": "code",
   "execution_count": 37,
   "id": "196dbf72-da6f-4bf7-933b-b73fda82d1e2",
   "metadata": {},
   "outputs": [
    {
     "data": {
      "text/plain": [
       "Text(0.5, 1.0, 'Identificación de Datos faltantes y atípicos')"
      ]
     },
     "execution_count": 37,
     "metadata": {},
     "output_type": "execute_result"
    },
    {
     "data": {
      "image/png": "[encoded data removed]",
      "text/plain": [
       "<Figure size 600x300 with 1 Axes>"
      ]
     },
     "metadata": {},
     "output_type": "display_data"
    }
   ],
   "source": [
    "# Identificación de datos faltantes y atípicos de precio de venta\n",
    "\n",
    "plt.figure(figsize=(6,3))\n",
    "sns.boxplot(x=Datos['selling_price'])\n",
    "plt.title('Identificación de Datos faltantes y atípicos',fontsize=10)"
   ]
  },
  {
   "cell_type": "code",
   "execution_count": 38,
   "id": "4057297c-d8e0-4d6a-9439-14257623fefd",
   "metadata": {},
   "outputs": [
    {
     "name": "stdout",
     "output_type": "stream",
     "text": [
      "El total de datos atipicos es 51 \n"
     ]
    }
   ],
   "source": [
    "# Conteo de datos atípicos\n",
    "\n",
    "nivel_minimo=100000\n",
    "nivel_maximo=4000000\n",
    "Total_atipicos=((Datos['selling_price']< nivel_minimo) | (Datos['selling_price']>nivel_maximo)).sum()\n",
    "print(\"El total de datos atipicos es {} \".format(Total_atipicos)) "
   ]
  },
  {
   "cell_type": "code",
   "execution_count": 39,
   "id": "b177a292-cf14-4b06-8fd0-814107d1955b",
   "metadata": {},
   "outputs": [],
   "source": [
    "# Filtra datos atípicos\n",
    "\n",
    "Datos=Datos[(Datos['selling_price']< nivel_maximo) & (Datos['selling_price']>nivel_minimo)]"
   ]
  },
  {
   "cell_type": "code",
   "execution_count": 40,
   "id": "3798bdea-3e71-4c69-8641-164fad051e97",
   "metadata": {},
   "outputs": [
    {
     "name": "stdout",
     "output_type": "stream",
     "text": [
      "El total de datos atipicos es 0 \n"
     ]
    }
   ],
   "source": [
    "# Validar si se removieron los datos atípicos\n",
    "\n",
    "Total_atipicos=((Datos['selling_price']< nivel_minimo) | (Datos['selling_price']>nivel_maximo)).sum()\n",
    "print(\"El total de datos atipicos es {} \".format(Total_atipicos)) "
   ]
  },
  {
   "cell_type": "code",
   "execution_count": 41,
   "id": "92e04fd6-7f27-4673-97bf-9d218a1ee71a",
   "metadata": {},
   "outputs": [
    {
     "data": {
      "text/plain": [
       "Text(0.5, 1.0, 'Identificación de Datos faltantes y atípicos')"
      ]
     },
     "execution_count": 41,
     "metadata": {},
     "output_type": "execute_result"
    },
    {
     "data": {
      "image/png": "[encoded data removed]",
      "text/plain": [
       "<Figure size 600x300 with 1 Axes>"
      ]
     },
     "metadata": {},
     "output_type": "display_data"
    }
   ],
   "source": [
    "# Identificación de datos faltantes y atípicos\n",
    "\n",
    "plt.figure(figsize=(6,3))\n",
    "sns.boxplot(x=Datos['km_driven'])\n",
    "plt.title('Identificación de Datos faltantes y atípicos',fontsize=10)"
   ]
  },
  {
   "cell_type": "code",
   "execution_count": 42,
   "id": "1dbc340f-f0fb-4bac-9c84-e065c41f54c1",
   "metadata": {},
   "outputs": [
    {
     "name": "stdout",
     "output_type": "stream",
     "text": [
      "El total de datos atipicos es 26 \n"
     ]
    }
   ],
   "source": [
    "# Conteo de datos atípicos\n",
    "\n",
    "nivel_minimo=0\n",
    "nivel_maximo=200000\n",
    "Total_atipicos=((Datos['km_driven']< nivel_minimo) | (Datos['km_driven']>nivel_maximo)).sum()\n",
    "print(\"El total de datos atipicos es {} \".format(Total_atipicos)) "
   ]
  },
  {
   "cell_type": "code",
   "execution_count": 43,
   "id": "c4086310-8835-4636-8d39-ee7d223476d5",
   "metadata": {},
   "outputs": [],
   "source": [
    "# Filtra datos atípicos\n",
    "\n",
    "Datos=Datos[(Datos['km_driven']< nivel_maximo) & (Datos['km_driven']>nivel_minimo)]"
   ]
  },
  {
   "cell_type": "code",
   "execution_count": 45,
   "id": "5eeb9339-2556-4b9c-b024-a25e4601ad35",
   "metadata": {},
   "outputs": [
    {
     "name": "stdout",
     "output_type": "stream",
     "text": [
      "El total de datos atipicos es 0 \n"
     ]
    }
   ],
   "source": [
    "# Validar si se removieron los datos atípicos\n",
    "\n",
    "Total_atipicos=((Datos['km_driven']< nivel_minimo) | (Datos['km_driven']>nivel_maximo)).sum()\n",
    "print(\"El total de datos atipicos es {} \".format(Total_atipicos)) "
   ]
  },
  {
   "cell_type": "code",
   "execution_count": 46,
   "id": "a7180737-7af3-4455-aadd-4b416a0e6610",
   "metadata": {},
   "outputs": [
    {
     "name": "stdout",
     "output_type": "stream",
     "text": [
      "<class 'pandas.core.frame.DataFrame'>\n",
      "Index: 3149 entries, 2 to 4339\n",
      "Data columns (total 8 columns):\n",
      " #   Column         Non-Null Count  Dtype \n",
      "---  ------         --------------  ----- \n",
      " 0   name           3149 non-null   object\n",
      " 1   year           3149 non-null   int64 \n",
      " 2   selling_price  3149 non-null   int64 \n",
      " 3   km_driven      3149 non-null   int64 \n",
      " 4   fuel           3149 non-null   object\n",
      " 5   seller_type    3149 non-null   object\n",
      " 6   transmission   3149 non-null   object\n",
      " 7   owner          3149 non-null   object\n",
      "dtypes: int64(3), object(5)\n",
      "memory usage: 221.4+ KB\n"
     ]
    }
   ],
   "source": [
    "##Revision de tipos de datos y datos faltantes\n",
    "\n",
    "Datos.info()"
   ]
  },
  {
   "cell_type": "markdown",
   "id": "09262d5d-8be9-4d15-a149-a1d8373349e6",
   "metadata": {},
   "source": [
    "## 3. Seleccionar las características más relevantes para entrenar el modelo utilizando selección de características.\n",
    "\n",
    "### La idea es que según el año del modelo y el kilometraje del automovil, el modelo nos de el precio de venta al consumidor."
   ]
  },
  {
   "cell_type": "code",
   "execution_count": 48,
   "id": "c6cdbd55-55f2-4ac3-9387-11794e22ddb4",
   "metadata": {},
   "outputs": [
    {
     "name": "stdout",
     "output_type": "stream",
     "text": [
      "Intercepto (B0): -143801029.20244876\n",
      "Intercepto (year ,B1): 71647.02447011923\n",
      "Intercepto (km_driven, B2): 0.20231715599461692\n"
     ]
    }
   ],
   "source": [
    "# Convertir los datos en un dataframe\n",
    "df=pd.DataFrame(Datos)\n",
    "\n",
    "# Variables independientes (modelo y kilometraje) y dependdientes(precio de venta)\n",
    "X=df[['year','km_driven']]\n",
    "Y=df['selling_price']\n",
    "\n",
    "# Crear modelo de regresión lineal\n",
    "modelo = LinearRegression()\n",
    "\n",
    "# Ajustar el modelo a los datos\n",
    "modelo.fit(X,Y)\n",
    "\n",
    "# Coeficientes de la regresión\n",
    "beta_0 = modelo.intercept_\n",
    "beta_1, beta_2 = modelo.coef_\n",
    "\n",
    "# Mostrar los coeficientes\n",
    "print(f\"Intercepto (B0): {beta_0}\")\n",
    "print(f\"Intercepto (year ,B1): {beta_1}\")\n",
    "print(f\"Intercepto (km_driven, B2): {beta_2}\")"
   ]
  },
  {
   "cell_type": "code",
   "execution_count": 49,
   "id": "b902fe35-2f4b-4287-9a15-4e2c9f88de0e",
   "metadata": {},
   "outputs": [
    {
     "name": "stdout",
     "output_type": "stream",
     "text": [
      "\n",
      "Predicciones\n",
      "Predicción 1 para (Año: 2015, Kilometraje: 10000): 569748.28 USD\n",
      "Predicción 2 para (Año: 2020, Kilometraje: 50000): 936076.08 USD\n"
     ]
    },
    {
     "name": "stderr",
     "output_type": "stream",
     "text": [
      "/home/juan/my-jupyter-env/lib/python3.12/site-packages/sklearn/base.py:493: UserWarning: X does not have valid feature names, but LinearRegression was fitted with feature names\n",
      "  warnings.warn(\n"
     ]
    }
   ],
   "source": [
    "# Predecir precios para dos nuevos valores\n",
    "nuevo_X= np.array([[2015,10000],[2020,50000]])\n",
    "predicciones=modelo.predict(nuevo_X)\n",
    "\n",
    "# Mostrar las predicciones\n",
    "print(\"\\nPredicciones\")\n",
    "for i, pred in enumerate(predicciones):\n",
    "    print(f\"Predicción {i+1} para (Año: {nuevo_X[i][0]}, Kilometraje: {nuevo_X[i][1]}): {pred:.2f} USD\")"
   ]
  },
  {
   "cell_type": "code",
   "execution_count": 52,
   "id": "c5d09699-c68b-4487-9526-81d46c55fe10",
   "metadata": {},
   "outputs": [
    {
     "name": "stdout",
     "output_type": "stream",
     "text": [
      "R²(Coeficiente de determinación): 0.11989319136898113\n",
      "Error Absoluto medio (mae): 264994.83980384754\n"
     ]
    }
   ],
   "source": [
    "# Importar librerias necesarias\n",
    "from sklearn.metrics import mean_absolute_error, mean_squared_error, r2_score\n",
    "\n",
    "# Variables independientes (modelo y kilometraje) y dependdientes(precio de venta)\n",
    "x=df[['year','km_driven']]\n",
    "y=df['selling_price']\n",
    "\n",
    "# Crear modelo de regresión lineal\n",
    "model = LinearRegression()\n",
    "\n",
    "# Ajustar el modelo a los datos\n",
    "model.fit(x,y)\n",
    "\n",
    "# Entrenar el modelo con los datos\n",
    "predicciones=model.predict(x)\n",
    "\n",
    "# Calcular las métricas de evaluación\n",
    "r2 = r2_score(y,predicciones) # Coeficiente de determinacion R^2\n",
    "mae = mean_absolute_error(y,predicciones) # Error absoluto medio\n",
    "mse = mean_squared_error(y,predicciones) # Error cuadratico medio\n",
    "rmse = np.sqrt(mse) # Raiz del error cuadratico medio\n",
    "\n",
    "# Imprimir las métricas\n",
    "print(f'R²(Coeficiente de determinación): {r2}')\n",
    "print(f'Error Absoluto medio (mae): {mae}')"
   ]
  },
  {
   "cell_type": "markdown",
   "id": "0df9cb25-c183-470a-a052-daf9ed09fd21",
   "metadata": {},
   "source": [
    "El coeficiente de determinarción para este caso esta cercano al 12% de linealidad entre las variables y existe un error absoluto medio de 265000 aproximadamente."
   ]
  }
 ],
 "metadata": {
  "kernelspec": {
   "display_name": "Python 3 (ipykernel)",
   "language": "python",
   "name": "python3"
  },
  "language_info": {
   "codemirror_mode": {
    "name": "ipython",
    "version": 3
   },
   "file_extension": ".py",
   "mimetype": "text/x-python",
   "name": "python",
   "nbconvert_exporter": "python",
   "pygments_lexer": "ipython3",
   "version": "3.12.3"
  }
 },
 "nbformat": 4,
 "nbformat_minor": 5
}
